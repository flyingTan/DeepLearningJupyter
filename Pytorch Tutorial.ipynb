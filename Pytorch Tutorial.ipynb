{
 "cells": [
  {
   "cell_type": "code",
   "execution_count": 2,
   "metadata": {},
   "outputs": [],
   "source": [
    "import torch"
   ]
  },
  {
   "cell_type": "markdown",
   "metadata": {},
   "source": [
    "### 1. Pytorch 自动求导数"
   ]
  },
  {
   "cell_type": "code",
   "execution_count": 37,
   "metadata": {},
   "outputs": [
    {
     "name": "stdout",
     "output_type": "stream",
     "text": [
      "************************************************** \n",
      " x is : \n",
      " tensor([[1., 1.],\n",
      "        [1., 1.]], requires_grad=True)\n",
      "************************************************** \n",
      " y = x + 2 is :\n",
      " tensor([[3., 3.],\n",
      "        [3., 3.]], grad_fn=<AddBackward0>)\n",
      "************************************************** \n",
      " z = y * y *3 is :\n",
      " tensor([[27., 27.],\n",
      "        [27., 27.]], grad_fn=<MulBackward0>)\n",
      "************************************************** \n",
      " out = y.mean() is :\n",
      " tensor(27., grad_fn=<MeanBackward0>)\n",
      "\n",
      " ************************************************** \n",
      " x grad is:\n",
      " tensor([[4.5000, 4.5000],\n",
      "        [4.5000, 4.5000]])\n"
     ]
    }
   ],
   "source": [
    "## 1. Inference\n",
    "x= torch.ones(2,2,requires_grad = True)\n",
    "print(\"*\"*50,'\\n x is : \\n',x)\n",
    "\n",
    "y = x + 2\n",
    "print(\"*\"*50,'\\n y = x + 2 is :\\n',y)\n",
    "\n",
    "z = y * y  * 3\n",
    "print(\"*\"*50,'\\n z = y * y *3 is :\\n',z)\n",
    "\n",
    "out = z.mean()\n",
    "print(\"*\"*50, '\\n out = y.mean() is :\\n', out)\n",
    "\n",
    "## 2 . Backward - out is scalar\n",
    "out.backward()\n",
    "print(\"\\n\",\"*\"*50, \"\\n x grad is:\\n\", x.grad)"
   ]
  },
  {
   "cell_type": "code",
   "execution_count": 48,
   "metadata": {},
   "outputs": [
    {
     "name": "stdout",
     "output_type": "stream",
     "text": [
      "\n",
      " tensor([-0.5289, -2.7384,  0.5890], requires_grad=True) \n",
      " tensor([ -270.8058, -1402.0596,   301.5794], grad_fn=<MulBackward0>)\n",
      "tensor([512., 512., 256.])\n"
     ]
    }
   ],
   "source": [
    "## when output is vector \n",
    "x = torch.randn(3, requires_grad = True)\n",
    "y = x * 2\n",
    "while y.data.norm() < 1000:\n",
    "    y  = y * 2\n",
    "print('\\n',x, '\\n',y)\n",
    "v = torch.tensor([1,1,.5])\n",
    "y.backward(v)\n",
    "print(x.grad)"
   ]
  },
  {
   "cell_type": "markdown",
   "metadata": {},
   "source": [
    "### 2. Pytorch: 定义新的autograd函数"
   ]
  },
  {
   "cell_type": "code",
   "execution_count": 50,
   "metadata": {},
   "outputs": [
    {
     "ename": "SyntaxError",
     "evalue": "unexpected EOF while parsing (<ipython-input-50-049b5772965b>, line 10)",
     "output_type": "error",
     "traceback": [
      "\u001b[0;36m  File \u001b[0;32m\"<ipython-input-50-049b5772965b>\"\u001b[0;36m, line \u001b[0;32m10\u001b[0m\n\u001b[0;31m    def backward(ctx, grad_output):\u001b[0m\n\u001b[0m                                   ^\u001b[0m\n\u001b[0;31mSyntaxError\u001b[0m\u001b[0;31m:\u001b[0m unexpected EOF while parsing\n"
     ]
    }
   ],
   "source": [
    "import torch\n",
    "from torch.autograd import Variable\n",
    "\n",
    "class MyRelu(torch.autograd.Function):\n",
    "    @staticmethod\n",
    "    def forward(ctx, input):\n",
    "        ctx.save_for_backward(input)\n",
    "        return input.clamp(min = 0)\n",
    "    \n",
    "    @staticmethod\n",
    "    def backward(ctx, grad_output):\n",
    "        input, = ctx.saved_tensors\n",
    "        grad_input = grad_output.clone()\n",
    "        grad_input[input < 0] = 0\n",
    "        return grad_input\n",
    "\n",
    "        "
   ]
  },
  {
   "cell_type": "code",
   "execution_count": null,
   "metadata": {},
   "outputs": [],
   "source": []
  }
 ],
 "metadata": {
  "kernelspec": {
   "display_name": "Python 3",
   "language": "python",
   "name": "python3"
  },
  "language_info": {
   "codemirror_mode": {
    "name": "ipython",
    "version": 3
   },
   "file_extension": ".py",
   "mimetype": "text/x-python",
   "name": "python",
   "nbconvert_exporter": "python",
   "pygments_lexer": "ipython3",
   "version": "3.6.9"
  }
 },
 "nbformat": 4,
 "nbformat_minor": 4
}
