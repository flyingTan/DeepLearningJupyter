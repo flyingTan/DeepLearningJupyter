{
 "cells": [
  {
   "cell_type": "markdown",
   "metadata": {},
   "source": [
    "### 1. Pytorch detach\n",
    "\n",
    "+ 返回一个新的 ```tensor```，从当前计算图中分离下来的，但是仍指向原变量的存放位置，不同之处只是requires_grad为false，得到的这个tensor永远不需要计算其梯度，不具有 ```grad```。\n",
    "+ 使用 ```detach``` 返回的```tensor```和原始的```tensor```共同一个内存，即一个修改另一个也会跟着改变。\n",
    "+ 当我们再训练网络的时候可能希望保持一部分的网络参数不变，只对其中一部分的参数进行调整；或者值训练部分分支网络，并不让其梯度对主网络的梯度造成影响，这时候我们就需要使用detach()函数来切断一些分支的反向传播"
   ]
  },
  {
   "cell_type": "code",
   "execution_count": 29,
   "metadata": {},
   "outputs": [
    {
     "name": "stdout",
     "output_type": "stream",
     "text": [
      "a:      None\n",
      "out:    tensor([0.7311, 0.8808, 0.9820], grad_fn=<SigmoidBackward>)\n",
      "a.grad: tensor([0.1966, 0.1050, 0.0177])\n",
      "c:      tensor([0.7311, 0.8808, 0.9820])\n"
     ]
    }
   ],
   "source": [
    "import torch\n",
    "\n",
    "a = torch.tensor([1, 2, 4.], requires_grad = True)\n",
    "print('{0: <7}'.format('a:'), a.grad)\n",
    "\n",
    "out = a.sigmoid()\n",
    "print('{0: <7}'.format('out:'),out)\n",
    "out.sum().backward()\n",
    "print('{0: <7}'.format('a.grad:'),a.grad)\n",
    "\n",
    "## add detach\n",
    "c = out.detach()\n",
    "print('{0: <7}'.format('c:'),c)\n",
    "\n",
    "# c.sum().backward() # can not backward"
   ]
  },
  {
   "cell_type": "code",
   "execution_count": 50,
   "metadata": {},
   "outputs": [
    {
     "name": "stdout",
     "output_type": "stream",
     "text": [
      "tensor([2., 4., 9.], grad_fn=<MulBackward0>) \n",
      " None\n",
      "************************************************************\n",
      "z:      tensor([1.0000, 2.0000, 4.5000], requires_grad=True)\n",
      "x.grad: tensor([1., 1., 1.])\n",
      "y.grad: tensor([1., 1., 1.])\n"
     ]
    },
    {
     "name": "stderr",
     "output_type": "stream",
     "text": [
      "/usr/local/bin/ipython:11: UserWarning: The .grad attribute of a Tensor that is not a leaf Tensor is being accessed. Its .grad attribute won't be populated during autograd.backward(). If you indeed want the gradient for a non-leaf Tensor, use .retain_grad() on the non-leaf Tensor. If you access the non-leaf Tensor by mistake, make sure you access the leaf Tensor instead. See github.com/pytorch/pytorch/pull/30531 for more informations.\n"
     ]
    }
   ],
   "source": [
    "# cutoff backward by detach\n",
    "def round_pass(x):\n",
    "    y = x.round()\n",
    "    y_grad = x\n",
    "    return y.detach() - y_grad.detach() + y_grad\n",
    "\n",
    "a = torch.tensor([1, 2, 4.5], requires_grad = True)\n",
    "a = 2 * a\n",
    "m = round_pass(a)\n",
    "m.sum().backward()\n",
    "print(a,'\\n',a.grad)\n",
    "\n",
    "print(\"*\"*60)\n",
    "x = torch.tensor([1, 2, 4.5], requires_grad = True)\n",
    "y = torch.tensor([1, 2, 4.5], requires_grad = True)\n",
    "z = round_pass(x) + y\n",
    "z.sum().backward()\n",
    "print('{0:<7}'.format(\"z:\"), x)\n",
    "print('{0:<7}'.format(\"x.grad:\"), x.grad)\n",
    "print('{0:<7}'.format(\"y.grad:\"), x.grad)"
   ]
  },
  {
   "cell_type": "code",
   "execution_count": null,
   "metadata": {},
   "outputs": [],
   "source": []
  }
 ],
 "metadata": {
  "kernelspec": {
   "display_name": "tanfeiyang",
   "language": "python",
   "name": "tanfeiyang"
  },
  "language_info": {
   "codemirror_mode": {
    "name": "ipython",
    "version": 3
   },
   "file_extension": ".py",
   "mimetype": "text/x-python",
   "name": "python",
   "nbconvert_exporter": "python",
   "pygments_lexer": "ipython3",
   "version": "3.6.9"
  }
 },
 "nbformat": 4,
 "nbformat_minor": 4
}
